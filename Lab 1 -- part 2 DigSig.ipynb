{
 "cells": [
  {
   "cell_type": "markdown",
   "id": "5787f471",
   "metadata": {},
   "source": [
    "# Lab 1 Part 2 -- Digital Signatures\n",
    "Let us now use these RSA principles to implement RSA digital signatures.  \n",
    "At this point digital signatures should be pretty straightforward.\\\n",
    "But it is important to follow the protocol.\n",
    "\n",
    "Digital Signatures are different than encryption.\\\n",
    "You can encrypt if you like, or you can sign.\\\n",
    "These are different functions and are done independently of each other.\\\n",
    "\n",
    "There is no need to ever sign encryption, or encrypt a signature!!!"
   ]
  },
  {
   "cell_type": "code",
   "execution_count": null,
   "id": "14caf377",
   "metadata": {},
   "outputs": [],
   "source": [
    "################\n",
    "# DATA DATA DATA\n",
    "################\n",
    "\n",
    "# Alice data\n",
    "Pa = 2**107 - 1\n",
    "Qa = 2**607 - 1\n",
    "Na = Pa*Qa                    # Alice modulus\n",
    "phi_Na = (Pa - 1)*(Qa - 1)\n",
    "Ea = 101                      # Alice encryption exponent\n",
    "Da = inverse_mod(Ea, phi_Na)  # Alice decryption exponent\n",
    "\n",
    "# Bob data\n",
    "Pb = 2**521 - 1\n",
    "Qb = 2**127 - 1 \n",
    "Nb = Pb*Qb                    # Bob modulus\n",
    "phi_Nb = (Pb - 1)*(Qb - 1)\n",
    "Eb = 173                      # Bob encryption exponent\n",
    "Db = inverse_mod(Eb, phi_Nb)  # Bob decryption exponent"
   ]
  },
  {
   "cell_type": "markdown",
   "id": "93c64372",
   "metadata": {},
   "source": [
    "The protocol for a digital signature:\n",
    "Step 1:  hash the message\n",
    "Step 2:  sign the hash\n",
    "\n",
    "That's it.\\\n",
    "Clearly there are a few details for each of these steps, but that's it.\n",
    "\n",
    "In practice when we sign a form this is what is done.\\\n",
    "A copy of the message, say an outlook email, is sent.\\\n",
    "The digital signature is a signed copy of the message's hash.\\\n",
    "The recipient can easily hash the received message for themselves.\\\n",
    "They can also retrieve the signed hash from the sender.\\\n",
    "The recipient now compares the signed hash, and their calculated hash.\\\n",
    "If they match! The signature is valid.\n",
    "\n",
    "\n",
    "**note**. \n",
    "Hashes here can be tricky because you need to focus on the datatype.\\\n",
    "A hash will commonly be viewed as a hexadecimal value, meaning a number which uses 0-9 as well as letters a-f.\\\n",
    "If we are comparing hashes, we usually want to print the values out, and printing a hash is done as a hexadecimal number, or sometimes it's convenient to print as a string.\\\n",
    "Just be careful and pay attention to the details.\\\n",
    "\n",
    "Like before, if we are going to encrypt or decrypt, or use `power_mod()` the value needs to be a decimal integer."
   ]
  },
  {
   "cell_type": "code",
   "execution_count": null,
   "id": "7a3a2af4",
   "metadata": {},
   "outputs": [],
   "source": [
    "##################################################\n",
    "# The following function is written and functional \n",
    "# It is for your use\n",
    "##################################################\n",
    "\n",
    "\n",
    "# here is a function called hash_message() which takes as an argument a\n",
    "# string message and returns a hexadecimal hash\n",
    "\n",
    "def hash_message(message):\n",
    "    import hashlib                        # gives us access to sha256()\n",
    "    hash = hashlib.sha256()               # instantiates a sha256 object\n",
    "    hash.update(message.encode('UTF-8'))  # creates hash of the message\n",
    "    return hash.hexdigest()               # returns hexadecimal value"
   ]
  },
  {
   "cell_type": "markdown",
   "id": "bf37a577",
   "metadata": {},
   "source": [
    "Above is a function for hashing.\\\n",
    "We are importing the hash library from sagemath, and using a sha256 hash.\\\n",
    "\n",
    "It's important for sender and recipient to agree on the type of hash ahead of time.\\\n",
    "sha256 is the current standard, though, so we use that here.\\\n",
    "\n",
    "Like in RSA when I made my simpe encoding scheme, here we need an encoding.\\\n",
    "For the same reasons too, we need to turn the text into an integer somehow.\\\n",
    "That's all any encoding does, it enumerates text and characters in some manner.\\\n",
    "Here we will use the ubiquitous 'UTF-8' or $unicode$ encoding.\n",
    "\n",
    "Finaly, the hash object is a string.\\\n",
    "There is really no reason for most users to need it to be a number.\\\n",
    "We are not most users.  We still need to compute the signature using `power_mod`\\\n",
    "So the function returns `hexdigest()`, which is a hexadecimal number, not a string"
   ]
  },
  {
   "cell_type": "code",
   "execution_count": null,
   "id": "43e18b7b",
   "metadata": {},
   "outputs": [],
   "source": [
    "# create a message\n",
    "message = \"THIS IS A MESSAGE, BUT I WANT TO HAVE A DIGITAL SIGNATURE\"\n",
    "\n",
    "message_hash = hash_message(message)\n",
    "print(\"This is what the hash of the message looks like: \\n\\t\" + message_hash)\n",
    "print()\n",
    "\n",
    "# to create a digital signature we need to apply a private exponent\n",
    "# so we change this hexadecimal value into a decimal value \n",
    "# use int() function, and tell it that the hash is using base 16\n",
    "hash_int = int(message_hash, 16)\n",
    "print(\"hash_int: \\n\\t\" + str(hash_int))\n",
    "print()\n",
    "\n",
    "# you can see that you have a long integer now!\n",
    "# so Alice's the digital signature of this message is\n",
    "digital_signature = power_mod(hash_int, Da, Na)\n",
    "print(\"digital signature: \\n\\t\" + str(digital_signature))"
   ]
  },
  {
   "cell_type": "markdown",
   "id": "1c6bd04e",
   "metadata": {},
   "source": [
    "### How can you verify a digital signature?\n",
    "Well if Bob receives this digital signature from Alice, he will also receive the message from her.  \n",
    "So Bob can use sha256 to hash the message he receives.  \n",
    "Finally he can compare that hash to the one he receives from Alice, once he'd decrypted her hash."
   ]
  },
  {
   "cell_type": "code",
   "execution_count": null,
   "id": "542295cf",
   "metadata": {},
   "outputs": [],
   "source": [
    "################\n",
    "# DEMO DEMO DEMO\n",
    "################\n",
    "\n",
    "# Bob receives the following signed message from Alice\n",
    "message = \"I never finished reading The Lord of the Rings\"\n",
    "signature = 44673142268372414750074900051932624400737057995637552921538902794365231890355714653405730610723410178509662171225177812601573821078605343820846714301391175087750829292837940584651147548158210519372360172132811388254\n",
    "\n",
    "# Bob will start validating this message now\n",
    "\n",
    "# Step 1: Bob will calculate the message hash for himself\n",
    "bob_hashed = hash_message(message)\n",
    "\n",
    "# Step 2: Bob can decrypt the digital signature from Alice using her public key\n",
    "decrypted_signature = power_mod(signature, Ea, Na)\n",
    "\n",
    "# Step 3: Bob needs to convert back to a hexadecimal value from an integer too\n",
    "# this allows the hash to look like a hash, since they are hex values\n",
    "message_hash = hex(decrypted_signature)[2:]     # the [2:] is a formatting gimmick\n",
    "\n",
    "# Step 4: finally Bob wants to validate that the hash he computed, bob_hashed\n",
    "# matched the hash Alice sent\n",
    "print(bob_hashed)\n",
    "print(message_hash)\n",
    "\n",
    "print(\"The signature's validity is:  \" + str((bob_hashed == message_hash)))"
   ]
  },
  {
   "cell_type": "code",
   "execution_count": null,
   "id": "d663a0c1",
   "metadata": {},
   "outputs": [],
   "source": [
    "############\n",
    "# Question 1\n",
    "############\n",
    "\n",
    "# hash the following message\n",
    "message = \"I SPY WITH MY LITTLE EYE...\"\n",
    "\n",
    "\n",
    "\n",
    "\n",
    "\n",
    "\n"
   ]
  },
  {
   "cell_type": "code",
   "execution_count": null,
   "id": "c086d548",
   "metadata": {},
   "outputs": [],
   "source": [
    "############\n",
    "# Question 2\n",
    "############\n",
    "\n",
    "# if Alice digitally signed the message, what is the signature?\n",
    "\n",
    "\n",
    "\n",
    "\n",
    "\n",
    "\n"
   ]
  },
  {
   "cell_type": "code",
   "execution_count": null,
   "id": "cbe7c201",
   "metadata": {},
   "outputs": [],
   "source": [
    "############\n",
    "# Question 3\n",
    "############\n",
    "\n",
    "# if Bob digitally signed the message, what is the signature?\n",
    "\n",
    "\n",
    "\n",
    "\n",
    "\n",
    "\n"
   ]
  },
  {
   "cell_type": "code",
   "execution_count": null,
   "id": "1f3152ff",
   "metadata": {},
   "outputs": [],
   "source": [
    "############\n",
    "# Question 4\n",
    "############\n",
    "\n",
    "# is this a valid signed message from Bob?\n",
    "message = \"MY SPY EYE SPIES LITTLE FLIES!\"\n",
    "signature = 67665320774341585218641903297883881428876591239089016099194084691441062711037119108738886346480794950052976885691696058974752274559706955814164684820708231719676500021836441058627666800277702454512627962111048602283\n",
    "\n",
    "\n",
    "\n",
    "\n",
    "\n",
    "\n",
    "\n",
    "############\n",
    "# Question 5\n",
    "############\n",
    "\n",
    "# is this a valid signed message from Alice?"
   ]
  }
 ],
 "metadata": {
  "kernelspec": {
   "display_name": "SageMath 9.5",
   "language": "sage",
   "name": "sagemath-9.5"
  },
  "language_info": {
   "codemirror_mode": {
    "name": "ipython",
    "version": 3
   },
   "file_extension": ".py",
   "mimetype": "text/x-python",
   "name": "python",
   "nbconvert_exporter": "python",
   "pygments_lexer": "ipython3",
   "version": "3.9.9"
  }
 },
 "nbformat": 4,
 "nbformat_minor": 5
}

{
 "cells": [
  {
   "cell_type": "markdown",
   "metadata": {},
   "source": [
    "# DNS-SEC Example\n",
    "\n",
    "The following is an example of how DNS-SEC signs keys within the chain of trust. In this simple example:\n",
    "\n",
    "1) We are using smaller prime numbers to speed up the calculations; normally, the prime numbers would be in the order of 100+ digits long. We are also using abbreviated zone data for the purpose of this exercise for the ikea.se domain. For full details fo the records, you can find zone data here: dnsviz.net/d/ikea.se/dnssec\n",
    "\n",
    "2) We are using the same key values for zone signing keys (ZSK) and key siging keys (KSK); althought this is permitted under the DNSSEC protocol, it is generally best practice to use separate key values for the KSK and ZSK for security purposes.\n",
    "\n",
    "3) We will be using RSA/SHA-256 for this exercise, which is the current DNSSEC standard\n",
    "\n",
    "4) You will need to run SageMath Kernel to verify these calculations\n"
   ]
  },
  {
   "cell_type": "markdown",
   "metadata": {},
   "source": [
    "## Zone Data"
   ]
  },
  {
   "cell_type": "code",
   "execution_count": 2,
   "metadata": {},
   "outputs": [],
   "source": [
    "# Root Server data\n",
    "Pr = 2**107 - 1\n",
    "Qr = 2**607 - 1\n",
    "Nr = Pr*Qr                    # Root modulus\n",
    "phi_Nr = (Pr - 1)*(Qr - 1)\n",
    "Er = 101                      # Root encryption exponent\n",
    "Dr = inverse_mod(Er, phi_Nr)  # Root decryption exponent\n",
    "root_data = \"a.root-servers.net, b.root-servers.net, c.root-servers.net\"\n",
    "\n",
    "# ccTLD data, i.e. Sweden\n",
    "Pcc = 2**521 - 1\n",
    "Qcc = 2**127 - 1 \n",
    "Ncc = Pcc*Qcc                    # ccTLD modulus\n",
    "phi_Ncc = (Pcc - 1)*(Qcc - 1)\n",
    "Ecc = 173                      # ccTLD encryption exponent\n",
    "Dcc = inverse_mod(Ecc, phi_Ncc)  # ccTLD decryption exponent\n",
    "ccTLD_data = \"a.ns.se, b.ns.se, c.ns.se\"\n",
    "\n",
    "# Domain data\n",
    "# domain data\n",
    "# Base Values Bob\n",
    "Pd = 49316606534387222628407057297693523964136820850511818985519515647415558322543\n",
    "Qd = 91872478880438861140001013686985361958647305204999997818848240040038381660563\n",
    "phi_Nd = (Pd - 1)*(Qd - 1)\n",
    "Nd = Pd*Qd                    # domain modulus\n",
    "Ed = 65537                      # domain encryption exponent\n",
    "Dd = inverse_mod(Ed, phi_Nd)  # domain decryption exponent\n",
    "domain_data = \"udns1.cscdns.net, udns2.cscdns.uk\""
   ]
  },
  {
   "cell_type": "markdown",
   "metadata": {},
   "source": [
    "## Zone Data Signing"
   ]
  },
  {
   "cell_type": "code",
   "execution_count": 21,
   "metadata": {},
   "outputs": [
    {
     "name": "stdout",
     "output_type": "stream",
     "text": [
      "Hash of ccTLD zone data: 8bb943b39c114a350ee715de34ac8f8ac7c8a4bf6b16a79c8149a4732b7c28f8\n",
      "\n",
      "Hash of Ikea's domain data: 512395a1d2aca6a50b09528654e0e3e614b1348adfd61a0b3c2798a8f9d82f1b\n",
      "\n",
      "ccTLD Signature: 95147196781500944296946541169584512371880948126252795811112131097661215005368983743024507560492607724510177874768310616447788769433317012288542841926627598516090559623954321288988076213782798282\n",
      "\n",
      "domain Signature: 4385425156426633017965358503193551188580817367346465643174910460031402387674291373082381809978298526692670228233234501371418525190842806324372620195445246\n",
      "\n"
     ]
    }
   ],
   "source": [
    "import hashlib \n",
    "\n",
    "def hash_data(zone_data):\n",
    "    hash = hashlib.sha256()               \n",
    "    hash.update(zone_data.encode('UTF-8'))  \n",
    "    return hash.hexdigest()               \n",
    "\n",
    "ccTLD_hash = hash_data(ccTLD_data)\n",
    "print(\"Hash of ccTLD zone data: \" + ccTLD_hash + \"\\n\")\n",
    "domain_hash = hash_data(domain_data)\n",
    "print(\"Hash of Ikea's domain data: \" + domain_hash + \"\\n\")\n",
    "\n",
    "#Convert these hashes into integer values\n",
    "ccTLD_hash_int = int(ccTLD_hash, 16)\n",
    "domain_hash_int = int(domain_hash, 16)\n",
    "\n",
    "#Here we will sign our hashes of the zone data with the private key (the Zone Signing Key)\n",
    "ccTLD_signature = power_mod(ccTLD_hash_int, Dcc, Ncc)\n",
    "domain_signature = power_mod(domain_hash_int, Dd, Nd) \n",
    "\n",
    "print(\"ccTLD Signature: \" + str(ccTLD_signature) + \"\\n\")\n",
    "print(\"domain Signature: \" + str(domain_signature) + \"\\n\")"
   ]
  },
  {
   "cell_type": "markdown",
   "metadata": {},
   "source": [
    "## Key Signing"
   ]
  },
  {
   "cell_type": "code",
   "execution_count": 28,
   "metadata": {},
   "outputs": [
    {
     "name": "stdout",
     "output_type": "stream",
     "text": [
      "Sweden's public key hash: 4a8596a7790b5ca9e067da401c018b3206befbcf95c38121854d1a0158e7678a\n",
      "Ikea's public key hash: d57244ab10a76be13937db76648f504f437e6e0a7c310b4073d6c0bdce3c4ef5\n",
      "\n",
      "Sweden's public key signature: 5424824200969010175482094077398196239900900504117138350427738265841562973774254499170497259708280430954478553511871483878390161062396054469520746433656865566619703856472083020644127116554510585377847784342266689731\n",
      "Ikea's public key signature: 633295589923334362768512315073535932215437783270243783725356612715193779841705161928903299011879733769800281891170160915984881834141364829598528064456978764080772071833463135062060707747723765585\n"
     ]
    }
   ],
   "source": [
    "# We also need to sign the zone public keys, using the private keys of the parent. This is the most importatn feature of DNS\n",
    "# As it allows us to know that the public key we have matches what the aprent zone has \n",
    "# (and this is not a malicious 3rd party server)\n",
    "\n",
    "ccTLD_public_hash = hash_data(str(Ecc)) #hash of Sweden's public key\n",
    "domain_public_hash = hash_data(str(Ed)) #hash of Ikea's public key\n",
    "\n",
    "#Convert to integer values for signing\n",
    "ccTLD_public_hash_int = int(ccTLD_public_hash,16)\n",
    "domain_public_hash_int = int(domain_public_hash,16)\n",
    "\n",
    "#the ccTLD is signed with the root key signing key\n",
    "ccTLD_public_signature = power_mod(ccTLD_public_hash_int, Dr, Nr) \n",
    "\n",
    "#the ikea domain is signed with the ccTLD key signing key\n",
    "domain_public_signature = power_mod(domain_public_hash_int, Dcc, Ncc)\n",
    "\n",
    "print(\"Sweden's public key hash: \" + str(ccTLD_public_hash))\n",
    "print(\"Ikea's public key hash: \" + str(domain_public_hash))\n",
    "print()\n",
    "print(\"Sweden's public key signature: \"+ str(ccTLD_public_signature))\n",
    "print(\"Ikea's public key signature: \"+ str(domain_public_signature))\n",
    "\n"
   ]
  },
  {
   "cell_type": "markdown",
   "metadata": {},
   "source": [
    "## Signature Verification"
   ]
  },
  {
   "cell_type": "code",
   "execution_count": 29,
   "metadata": {},
   "outputs": [
    {
     "name": "stdout",
     "output_type": "stream",
     "text": [
      "Do the values of the zone signature hashes match?\n",
      "Is the provided ccTLD zone signature's hash the same as ours? True\n",
      "Is the provided Ikea domain signature's hash the same as ours? True\n",
      "\n",
      "Do the values of the key signature hashes match?\n",
      "Is the provided ccTLD key signature's hash the same as ours? True\n",
      "Is the provided Ikea key signature's hash the same as ours? True\n"
     ]
    }
   ],
   "source": [
    "# Now we are going to pretend ot be a recursive resolver, and one of our clinets wants to visit Ikea.se.\n",
    "# By obtaining the data and the signatures, all I need to do is check that they match.\n",
    "# This check will assure me that the data has not been tampered with.\n",
    "\n",
    "#Knowing the hash function is SHA-256, we verify it ourselves with the zone data\n",
    "ccTLD_verify_hash = hash_data(ccTLD_data)\n",
    "domain_verify_hash = hash_data(domain_data)\n",
    "\n",
    "#And we verify it with the public key hashes we take ourselves (since we can get the public key easily)\n",
    "ccTLD_publickey_verify = hash_data(str(Ecc))\n",
    "domain_publickey_verify = hash_data(str(Ed))\n",
    "\n",
    "# We verify the ZSK signature by decrypting the received signature with the public key of DNS server...\n",
    "decrypted_ccTLD = hex(power_mod(ccTLD_signature, Ecc, Ncc))[2:]\n",
    "decrypted_domain = hex(power_mod(domain_signature, Ed, Nd))[2:]\n",
    "\n",
    "#...and we verify the KSK signature by decrypting the signature with the parent zone's public key\n",
    "decrypted_public_ccTLD = hex(power_mod(ccTLD_public_signature, Er, Nr))[2:]\n",
    "decrypted_public_domain = hex(power_mod(domain_public_signature, Ecc, Ncc))[2:]\n",
    "\n",
    "#Verify that the hash values match:\n",
    "print(\"Do the values of the zone signature hashes match?\")\n",
    "print(\"Is the provided ccTLD zone signature's hash the same as ours? \" + str(decrypted_ccTLD==ccTLD_verify_hash))\n",
    "print(\"Is the provided Ikea domain signature's hash the same as ours? \" + str(decrypted_domain==domain_verify_hash))\n",
    "print()\n",
    "print(\"Do the values of the key signature hashes match?\")\n",
    "print(\"Is the provided ccTLD key signature's hash the same as ours? \" + str(decrypted_public_ccTLD==ccTLD_publickey_verify))\n",
    "print(\"Is the provided Ikea key signature's hash the same as ours? \" + str(decrypted_public_domain==domain_publickey_verify))\n",
    "\n",
    "\n",
    "#As these values match, we now know the values received are validated by the parent zone servers.\n"
   ]
  },
  {
   "cell_type": "markdown",
   "metadata": {},
   "source": [
    "## References\n",
    "\n",
    "The values of E, D, and N (composite of p and q), and the formula for converting between hashes and signatures, were taken from CY202 Cryptography Lab 1 -- part 2 as part of the UC Berkeley MICS curriculum. In this way we did not need to calculate independent values of E & D that were 1 mod N for the purpose of this demonstration, which is for DNSSEC."
   ]
  }
 ],
 "metadata": {
  "kernelspec": {
   "display_name": "SageMath 9.1",
   "language": "sage",
   "name": "sagemath"
  },
  "language_info": {
   "codemirror_mode": {
    "name": "ipython",
    "version": 3
   },
   "file_extension": ".py",
   "mimetype": "text/x-python",
   "name": "python",
   "nbconvert_exporter": "python",
   "pygments_lexer": "ipython3",
   "version": "3.7.3"
  }
 },
 "nbformat": 4,
 "nbformat_minor": 2
}

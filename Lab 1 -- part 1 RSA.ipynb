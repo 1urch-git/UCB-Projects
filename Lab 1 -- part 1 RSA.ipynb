{
 "cells": [
  {
   "cell_type": "markdown",
   "id": "3c5dabca",
   "metadata": {},
   "source": [
    "# Lab 1 Part 1 -- RSA basics and getting started\n",
    "This lab will take you through the basics of encryption and decryption of RSA\n",
    "\n",
    "There will be quite a few things we will need to talk about, so get prepared and get excited!\n",
    "\n",
    "This, and subsequent labs, will try to work from simpler concepts to more complex.  One problem we find with working with RSA is you need to have a strong understanding of multiple concepts, some of the concepts will be foreign to you unless you were a double Math / CompSci major.\n",
    "\n",
    "This is good news / bad news, you may not be familiar with all the concepts, but you should be familiar with some.  If you feel unfamiliar with none, then with a small amount of catch up you should be right on par.\n",
    "\n",
    "This lab will cover some ancillary ideas which will lead to everything coming together in the end.\n",
    "\n",
    "Of note, this lab is intended to cover the implementation of RSA, so you can see it work in practice.  Our hope is that we will start with small easy to handle numbers, and you can see that the concepts aren't inherently difficult.  We will add increasingly larger numbers and increasingly professional implementations, and you should see that nothing really changed except for the sizes of numbers.  But since we are using a computer the size of the number is immaterial to us.  \n",
    "{We use SageMath since the size of the number is hugely material to the computer! And we can easily overrun memory if we aren't careful}\n",
    "\n",
    "***NOTE***  \n",
    "*The material and functions contained within will be required for the midterm.*"
   ]
  },
  {
   "cell_type": "markdown",
   "id": "9c93126b",
   "metadata": {},
   "source": [
    "### RSA ToDo List\n",
    "Alice:  \n",
    "1. Declaring a _String_ to be encrypted  \n",
    "2. _Encoding_ the string so it can be encrypted  \n",
    "3. _Encrypting_ the encoding to get ciphertext  \n",
    "\n",
    "Bob:  \n",
    "1. _Decrypting_ ciphertext to get encoding  \n",
    "2. _Decoding_ encoding to get plaintext  "
   ]
  },
  {
   "cell_type": "markdown",
   "id": "85a44cfa",
   "metadata": {},
   "source": [
    "### How does RSA Work?\n",
    "RSA uses some \"simple\" mathematical operations for encryption and decryption.\n",
    "The first operation is exponentiation.\n",
    "The second operation is reduction by modulus.\n",
    "\n",
    "When we say exponentiation we are quite simply taking a number, $m$, and raising it to a power, $e$, so we get $m^e$\n",
    "\n",
    "The nomenclature:  \n",
    "$m$ is the message to be encrypted.  (In this class this will need to be the encoded plaintext, but more on that later.)  \n",
    "$e$ is an encryption exponent.  This is also called the public key, since $e$ will be made publicly available.  \n",
    "$d$ is a decryption exponent.  This is also called the private key, since no one except the keyholder should be able to decrypt a transmisison.  "
   ]
  },
  {
   "cell_type": "code",
   "execution_count": null,
   "id": "14caf377",
   "metadata": {},
   "outputs": [],
   "source": [
    "################\n",
    "# DATA DATA DATA\n",
    "################\n",
    "\n",
    "\n",
    "# for now we will use these values for RSA.\n",
    "# I am including quite a few values here, in case you want to explore\n",
    "# the only ones we will use now are Ea, Da, and Na\n",
    "\n",
    "# Alice data\n",
    "Pa = 2**107 - 1\n",
    "Qa = 2**607 - 1\n",
    "Na = Pa*Qa                    # Alice modulus\n",
    "phi_Na = (Pa - 1)*(Qa - 1)\n",
    "Ea = 101                      # Alice encryption exponent\n",
    "Da = inverse_mod(Ea, phi_Na)  # Alice decryption exponent\n",
    "\n",
    "# Bob data\n",
    "Pb = 2**521 - 1\n",
    "Qb = 2**127 - 1 \n",
    "Nb = Pb*Qb                    # Bob modulus\n",
    "phi_Nb = (Pb - 1)*(Qb - 1)\n",
    "Eb = 173                      # Bob encryption exponent\n",
    "Db = inverse_mod(Eb, phi_Nb)  # Bob decryption exponent\n",
    "\n",
    "# a standard RSA key will have two parts, a public and private part\n",
    "# here the public key will be the encryption exponent, and the modulus\n",
    "# <Ea, Na> is the public key of Alice\n",
    "# the private key Alice doesn't tell anyone, is <Da, Na>"
   ]
  },
  {
   "cell_type": "markdown",
   "id": "6b2b1106",
   "metadata": {},
   "source": [
    "### RSA ToDo List\n",
    "Alice:  \n",
    "1. **Declaring a _String_ to be encrypted**\n",
    "2. _Encoding_ the string so it can be encrypted  \n",
    "3. _Encrypting_ the encoding to get ciphertext  \n",
    "\n",
    "Bob:  \n",
    "1. _Decrypting_ ciphertext to get encoding  \n",
    "2. _Decoding_ encoding to get plaintext  "
   ]
  },
  {
   "cell_type": "markdown",
   "id": "e61cc61b",
   "metadata": {},
   "source": [
    "Since we need to perform math to encrypt and decrypt in RSA, we need to use numbers.  \n",
    "Say I want to transmit a secret message like, `\"Have a nice day.\"`  \n",
    "Well RSA says we simply raise this message to an encryption exponent.  Does it make sense to do this then: \n",
    "\n",
    "$\\big(\"Have\\ a\\ nice\\ day.\"\\big)^e$  \n",
    "\n",
    "Hopefully not.  We need to convert this string `\"Have a nice day.\"` into an integer value of some sort so using an exponent makes sense..  This converstion is called encoding.  \n",
    "Encoding occurs all the time in computers, ASCII is a common encoding, although for our purposes straight ASCII can be problematic.  \n",
    "In fact, there are little problems which arise all the time when trying to find a good encoding scheme.  \n",
    "We will be playing with `openssl` later, and it uses a common encoding called `-base64`.\n",
    "\n",
    "For now we will make it easy for you.  I have devised a set of proprietary functions called `encode_message` and `decode_message`."
   ]
  },
  {
   "cell_type": "markdown",
   "id": "81171d44",
   "metadata": {},
   "source": [
    "### RSA ToDo List\n",
    "Alice:  \n",
    "1. Declaring a _String_ to be encrypted\n",
    "2. **_Encoding_ the string so it can be encrypted**  \n",
    "3. _Encrypting_ the encoding to get ciphertext  \n",
    "\n",
    "Bob:  \n",
    "1. _Decrypting_ ciphertext to get encoding  \n",
    "2. _Decoding_ encoding to get plaintext "
   ]
  },
  {
   "cell_type": "code",
   "execution_count": null,
   "id": "62dac8bf",
   "metadata": {},
   "outputs": [],
   "source": [
    "####################################################\n",
    "# The following functions are written and functional \n",
    "# They are for your use\n",
    "####################################################\n",
    "\n",
    "\n",
    "# ENCODE FUNCTION\n",
    "# function to take ascii plaintext and convert to decimal value message\n",
    "def encode_message(message):\n",
    "    encoded = message.encode()\n",
    "    encoded_message = int.from_bytes(encoded, byteorder='little')\n",
    "    return encoded_message\n",
    "\n",
    "# DECODE FUNCTION\n",
    "# function to take decimal value message and convert to ascii plaintext\n",
    "def decode_message(message):\n",
    "    m = int(message)\n",
    "    length = math.ceil(m.bit_length() / 8)\n",
    "    decoded_message = m.to_bytes(length, byteorder='little').decode()\n",
    "    return decoded_message"
   ]
  },
  {
   "cell_type": "code",
   "execution_count": null,
   "id": "af1eb470",
   "metadata": {},
   "outputs": [],
   "source": [
    "################\n",
    "# DEMO DEMO DEMO\n",
    "################\n",
    "\n",
    "\n",
    "# Let's check to see if the encoding works for us\n",
    "\n",
    "# make a string\n",
    "message = \"HeLl@ w0r1d!\"\n",
    "\n",
    "# it's always important to know what type of object\n",
    "# we are working with\n",
    "\n",
    "# let's see what type of variable message is...\n",
    "# should be a string type\n",
    "print(\"The type of object before encoding: \\n\\t\" + str(type(message)))"
   ]
  },
  {
   "cell_type": "code",
   "execution_count": null,
   "id": "427fd653",
   "metadata": {},
   "outputs": [],
   "source": [
    "# You can see in the output that 'message' is of the \n",
    "# class 'str' which means string.  Woot.\n",
    "\n",
    "# now let's encode and turn it into an integer\n",
    "encoded_message = encode_message(message)\n",
    "\n",
    "# check type\n",
    "# print message and encoded_message together\n",
    "print(\"The type of object after encoding: \\n\\t\" + str(type(encoded_message)))\n",
    "print()\n",
    "\n",
    "# print message\n",
    "print(\"The original message: \\n\\t\" + message)\n",
    "print()\n",
    "print(\"The encoded message: \\n\\t\" + str(encoded_message))\n",
    "print()\n",
    "\n",
    "# print decoded message just to see it work...\n",
    "# note the capitalization now... part of my basic encoding scheme\n",
    "print(\"The decoded message: \\n\\t\" + decode_message(encoded_message))"
   ]
  },
  {
   "cell_type": "markdown",
   "id": "74dfce88",
   "metadata": {},
   "source": [
    "Just to talk about the encoding a bit.  \n",
    "Consider a simplified code which uses the two digit ascii value.\\\n",
    "You can see this if you look up an ascii table.  \n",
    "\n",
    "For instance, the letter `H` has an ascii value of 72. The `E` has a value of 69, `L` a value of 76, etc...  \n",
    "\n",
    "So encoding `HELLO` would be `7269767679`\\\n",
    "In this way we can convert back and forth between this integer and a readable string.\n",
    "\n",
    "*TECHNICAL NOTE*. \n",
    "It is important to check your encoding against your data types.  This is supposed to be a simplified example, but mistakes are still possible.  So, for our purposes you should always be using a _string_ as your message.  For our encoding it is just fine to use integers and numbers all you want.  So you can encode the string \"1232221\" just fine.  But you won't be able to encode an integer valued at 1232221. You can mix and match numbers in your string also, for instance you can say \"HELLO, THE SECRET MESSAGE IS 1232221, AND I AM A SPY!\". This is fine.  Enjoy!"
   ]
  },
  {
   "cell_type": "code",
   "execution_count": null,
   "id": "fcad36c0",
   "metadata": {},
   "outputs": [],
   "source": [
    "################\n",
    "# YOUR WORK HERE\n",
    "################\n",
    "\n",
    "\n",
    "############\n",
    "# Question 1\n",
    "############\n",
    "\n",
    "# encode these three messages\n",
    "message_one = 'I LOVE MACARONI AND CHEESE'\n",
    "message_two = 'I LOVE SAMOSAS AND LASSI'\n",
    "message_three = 'I LOVE KIM CHI JI GAE'\n",
    "\n",
    "\n",
    "\n",
    "\n",
    "\n",
    "\n",
    "\n",
    "# take those three messages and print them an their \n",
    "# corresponding encoding in a professional manner\n",
    "\n",
    "\n",
    "\n",
    "\n",
    "\n",
    "\n",
    "\n"
   ]
  },
  {
   "cell_type": "markdown",
   "id": "9e5be9bd",
   "metadata": {},
   "source": [
    "### RSA ToDo List\n",
    "Alice:  \n",
    "1. Declaring a _String_ to be encrypted\n",
    "2. _Encoding_ the string so it can be encrypted  \n",
    "3. **_Encrypting_ the encoding to get ciphertext**  \n",
    "\n",
    "Bob:  \n",
    "1. _Decrypting_ ciphertext to get encoding  \n",
    "2. _Decoding_ encoding to get plaintext "
   ]
  },
  {
   "cell_type": "markdown",
   "id": "e120d2a5",
   "metadata": {},
   "source": [
    "Let's do some encrypting.  After all of this setup, the actual encryption is quite straightforward.  \n",
    "\n",
    "RSA is executed by taking the encoded message, an integer, raising it to an exponent, and finally reducing by a modulus.  \n",
    "\n",
    "If we let $m$ be the encoded message, then raising it to an exponent is $m^e$. \n",
    "\n",
    "Finally, reducing by a modulus can be accomplished, in general by the modulus operator %, so we can say `m^e%N`.  \n",
    "\n",
    "There is a problem with python and most other languages.\\\n",
    "There is rarely support built in for operations on large numbers.\\\n",
    "By large we mean values larger than the operating system can handle natively.\\\n",
    "If you're using a 64-bit operating system, which is most of us,\\\n",
    "then anything over the size of $2^64$ is threatening to be inaccurately processed.\\\n",
    "You will learn more about integer overflow errors and attacks in future MICS courses!  \n",
    "\n",
    "Think about RSA, we commonly use RSA-2048... which uses values which are 2048 bits long... far exceeding the 64-bit size.\\\n",
    "Sagemath is specifically written to solve this issue and address other cryptological computational issues.\n",
    "\n",
    "If you use python you could quickly and simply write the RSA encryption as `m^e%N`.\\\n",
    "In sagemath we use a function called `power_mod(m, e, N)`"
   ]
  },
  {
   "cell_type": "code",
   "execution_count": null,
   "id": "fcfa3b30",
   "metadata": {},
   "outputs": [],
   "source": [
    "################\n",
    "# DEMO DEMO DEMO\n",
    "################\n",
    "\n",
    "\n",
    "# Alice wants to send a message to Bob\n",
    "# she's encocded it already as encoded_message above\n",
    "# since she is sending a message to Bob, she will use Bob's \n",
    "# public encryption exponent, Eb, and his public modulus Nb\n",
    "\n",
    "ciphertext = power_mod(encoded_message, Eb, Nb)\n",
    "\n",
    "# what does the ciphertext look like?\n",
    "# well we expect it to be a large integer\n",
    "print(\"ciphertext: \\n\\t\" + str(ciphertext))"
   ]
  },
  {
   "cell_type": "markdown",
   "id": "fa605ff0",
   "metadata": {},
   "source": [
    "### RSA ToDo List\n",
    "Alice:  \n",
    "1. Declaring a _String_ to be encrypted\n",
    "2. _Encoding_ the string so it can be encrypted  \n",
    "3. _Encrypting_ the encoding to get ciphertext  \n",
    "\n",
    "Bob:  \n",
    "1. **_Decrypting_ ciphertext to get encoding**  \n",
    "2. _Decoding_ encoding to get plaintext "
   ]
  },
  {
   "cell_type": "markdown",
   "id": "9c5b7408",
   "metadata": {},
   "source": [
    "Now Alice has sent an encrypted message to Bob.  This message can be intercepted and no one will be able to read it unless they have access to Bob's private key, Db, and Bob's modulus Nb.\n",
    "\n",
    "So let's decrypt it!\n",
    "\n",
    "RSA decryption is as simple as taking the ciphertext and raising it to the decryption exponent and simplifying by the modulus.\n",
    "\n",
    "We use power_mod() again.  Super easy.  Just remember that this will return the encoded message, so that will be the final step."
   ]
  },
  {
   "cell_type": "code",
   "execution_count": null,
   "id": "e8ef3a38",
   "metadata": {},
   "outputs": [],
   "source": [
    "################\n",
    "# YOUR WORK HERE\n",
    "################\n",
    "\n",
    "# say we receive the following ciphertext from Alice\n",
    "ciphertext = 795922927188376388653614112175281831943327080979057468959583174351003302368934997582479902442311322447974967933691752065791135393698905728510519778941997861806227476464976904776206351788387574543\n",
    "\n",
    "# decrypt ciphertext received from Alice\n",
    "# we use bob's private key, Db, and modulus Nb\n",
    "decrypted_message = power_mod(ciphertext, Db, Nb)\n",
    "\n",
    "# what does the decrypted (but not decoded) message look like?\n",
    "print(\"decrypted message: \\n\\t\" + str(decrypted_message))\n",
    "print()\n",
    "\n",
    "############\n",
    "# Question 2\n",
    "############\n",
    "\n",
    "# decode the message\n",
    "\n",
    "\n",
    "\n",
    "\n",
    "\n",
    "\n"
   ]
  },
  {
   "cell_type": "markdown",
   "id": "99e3498d",
   "metadata": {},
   "source": [
    "### RSA ToDo List\n",
    "Alice:  \n",
    "1. Declaring a _String_ to be encrypted\n",
    "2. _Encoding_ the string so it can be encrypted  \n",
    "3. _Encrypting_ the encoding to get ciphertext  \n",
    "\n",
    "Bob:  \n",
    "1. _Decrypting_ ciphertext to get encoding  \n",
    "2. **_Decoding_ encoding to get plaintext** "
   ]
  },
  {
   "cell_type": "code",
   "execution_count": null,
   "id": "430327e3",
   "metadata": {},
   "outputs": [],
   "source": [
    "# let's decode this message and find out what Alice has to say!\n",
    "plaintext_message = decode_message(decrypted_message)\n",
    "print(plaintext_message)"
   ]
  },
  {
   "cell_type": "markdown",
   "id": "0bab0a39",
   "metadata": {},
   "source": [
    "Great, now it's time to try yourself!"
   ]
  },
  {
   "cell_type": "code",
   "execution_count": null,
   "id": "25a06fcb",
   "metadata": {},
   "outputs": [],
   "source": [
    "############\n",
    "# Question 3\n",
    "############\n",
    "\n",
    "# Step 1 -- create a message you want to send to Bob\n",
    "# call it my_message\n",
    "# print my_message\n",
    "\n",
    "my_message = ''\n",
    "print(my_message)"
   ]
  },
  {
   "cell_type": "code",
   "execution_count": null,
   "id": "ddc04ec9",
   "metadata": {},
   "outputs": [],
   "source": [
    "############\n",
    "# Question 4\n",
    "############\n",
    "\n",
    "# Step 2 -- encode the string, save the encoding as my_encoded\n",
    "# print my_encoded\n",
    "\n",
    "# Step 3 -- encrypt the encoding, save it as my_ciphertext\n",
    "# print my_ciphertext"
   ]
  },
  {
   "cell_type": "code",
   "execution_count": null,
   "id": "7bb3cfd0",
   "metadata": {},
   "outputs": [],
   "source": [
    "############\n",
    "# Question 5\n",
    "############\n",
    "\n",
    "# Step 4 -- now act like bob and verify that he can read your message\n",
    "# decrypt the message and save it as bob_encoded\n",
    "# print bob_encoded\n",
    "\n",
    "# Step 5 -- finally act like bob and decode the message\n",
    "# print decoded message"
   ]
  }
 ],
 "metadata": {
  "kernelspec": {
   "display_name": "SageMath 9.5",
   "language": "sage",
   "name": "sagemath-9.5"
  },
  "language_info": {
   "codemirror_mode": {
    "name": "ipython",
    "version": 3
   },
   "file_extension": ".py",
   "mimetype": "text/x-python",
   "name": "python",
   "nbconvert_exporter": "python",
   "pygments_lexer": "ipython3",
   "version": "3.9.9"
  }
 },
 "nbformat": 4,
 "nbformat_minor": 5
}

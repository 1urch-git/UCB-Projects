{
 "cells": [
  {
   "cell_type": "markdown",
   "metadata": {},
   "source": [
    "# Lab 2\n",
    "\n",
    "We will be working through a few problems so you can see how these attacks / vulnerabilities work"
   ]
  },
  {
   "cell_type": "code",
   "execution_count": 22,
   "metadata": {},
   "outputs": [],
   "source": [
    "####################################################\n",
    "# The following functions are written and functional \n",
    "# They are for your use\n",
    "####################################################\n",
    "\n",
    "# DECODE FUNCTION\n",
    "# function to take decimal value message and convert to ascii plaintext\n",
    "def decode_message(message):\n",
    "    m = int(message)\n",
    "    length = math.ceil(m.bit_length() / 8)\n",
    "    decoded_message = m.to_bytes(length, byteorder='little').decode()\n",
    "    return decoded_message\n",
    "\n",
    "# HASH FUNCTION\n",
    "# function takes a string message and returns hexadecimal hash\n",
    "def hash_message(message):\n",
    "    import hashlib                        # gives us access to sha256()\n",
    "    hash = hashlib.sha256()               # instantiates a sha256 object\n",
    "    hash.update(message.encode('UTF-8'))  # creates hash of the message\n",
    "    return hash.hexdigest()               # returns hexadecimal value"
   ]
  },
  {
   "cell_type": "markdown",
   "metadata": {},
   "source": [
    "## **TODO List**  \n",
    "**_PART 1:  Break RSA factoring_**  \n",
    "PART 2:  Break RSA with Square Roots & CRT  \n",
    "PART 3:  Rabin Signatures  \n",
    "PART 4:  Shamir Secret Sharing"
   ]
  },
  {
   "cell_type": "markdown",
   "metadata": {},
   "source": [
    "This should be a straight forward exercise for you by now, so consdier this review.  \n",
    "How can we break RSA simply by factoring...\n",
    "\n",
    "For starters we need to factor a large number.  \n",
    "We will not use overly large numbers here.  \n",
    "They will be reasonable to work with in a jupyter notebook."
   ]
  },
  {
   "cell_type": "markdown",
   "metadata": {},
   "source": [
    "First step is to factor.  \n",
    "While we could write a brute force style factoring algorithm,  \n",
    "that would take a long time to process on a single personal computer.  \n",
    "It is instructiver to think about the problem though, and I encourage the thought.  \n",
    "There are many ways to make a factoring algorithm more efficient.  \n",
    "\n",
    "For now, use any method you'd like to find the factors of N.   "
   ]
  },
  {
   "cell_type": "code",
   "execution_count": 3,
   "metadata": {},
   "outputs": [],
   "source": [
    "################\n",
    "# DATA DATA DATA\n",
    "################\n",
    "\n",
    "\n",
    "# Aaron's Public Key (E, N)\n",
    "E = 10492451\n",
    "N = 323777872629222912584202035158155151876683308819\n",
    "\n",
    "\n",
    "# intercepted message text\n",
    "C1 = 33013487164610291241411888177625215947161012926\n",
    "C2 = 151308661650694256002121415408590077507068349844"
   ]
  },
  {
   "cell_type": "code",
   "execution_count": 13,
   "metadata": {},
   "outputs": [
    {
     "name": "stderr",
     "output_type": "stream",
     "text": [
      "/opt/sagemath-9.1/local/lib/python3.7/site-packages/ipykernel/zmqshell.py:537: RuntimeWarning: the factorization returned by qsieve may be incomplete (the factors may not be prime) or even wrong; see qsieve? for details\n",
      "  return super(ZMQInteractiveShell, self).run_cell(*args, **kwargs)\n"
     ]
    },
    {
     "name": "stdout",
     "output_type": "stream",
     "text": [
      "True\n",
      "True\n",
      "p:\t355718838765115951494559\n",
      "q:\t910207268620417601264141\n"
     ]
    }
   ],
   "source": [
    "############################\n",
    "# Question 1: Your work here\n",
    "############################\n",
    "\n",
    "# find p and q, use qsieve to factor\n",
    "factors = N.factor(algorithm=\"qsieve\") \n",
    "\n",
    "#call, assign tuple values\n",
    "p = factors[0][0] \n",
    "q = factors[1][0]\n",
    "\n",
    "#check if prime\n",
    "print(p.is_prime()) #\n",
    "print(q.is_prime())\n",
    "\n",
    "print(\"p:\\t\" + str(p))\n",
    "print(\"q:\\t\" + str(q))"
   ]
  },
  {
   "cell_type": "code",
   "execution_count": 15,
   "metadata": {},
   "outputs": [
    {
     "name": "stdout",
     "output_type": "stream",
     "text": [
      "True\n",
      "phi_N:\t323777872629222912584200769232047766343130550120\n"
     ]
    }
   ],
   "source": [
    "############################\n",
    "# Question 2: Your work here\n",
    "############################\n",
    "\n",
    "# now that you know p, q what is phi(N)\n",
    "# you can use the function `euler_phi(N)` to check your work\n",
    "\n",
    "phi_N = (p-1)*(q-1)\n",
    "\n",
    "print(phi_N == euler_phi(N))\n",
    "\n",
    "print(\"phi_N:\\t\" + str(phi_N))"
   ]
  },
  {
   "cell_type": "markdown",
   "metadata": {},
   "source": [
    "Since we now have access to _phi_N_, we need only find the multiplicative inverse of the encryption key.  \n",
    "Use the `inverse_mod()` function here."
   ]
  },
  {
   "cell_type": "code",
   "execution_count": 17,
   "metadata": {},
   "outputs": [
    {
     "name": "stdout",
     "output_type": "stream",
     "text": [
      "D:\t42229904065223046877996389967069189172752452971\n"
     ]
    }
   ],
   "source": [
    "############################\n",
    "# Question 3: Your work here\n",
    "############################\n",
    "\n",
    "# What is the decryption exponent D?\n",
    "\n",
    "D = inverse_mod(E,phi_N)\n",
    "\n",
    "print(\"D:\\t\" + str(D))"
   ]
  },
  {
   "cell_type": "markdown",
   "metadata": {},
   "source": [
    "You have the decryption exponent now...  \n",
    "The rest is up to you, what does the message C1 say?"
   ]
  },
  {
   "cell_type": "code",
   "execution_count": 29,
   "metadata": {},
   "outputs": [
    {
     "name": "stdout",
     "output_type": "stream",
     "text": [
      "message C1: \n",
      "\tExfil immediately: \n",
      "message C2: \n",
      "\tRV: 12S XF 7394 9654\n"
     ]
    }
   ],
   "source": [
    "############################\n",
    "# Question 4: Your work here\n",
    "############################\n",
    "\n",
    "# After C1 has been decoded and decrypted, \n",
    "# what is the plaintext message?\n",
    "\n",
    "M1 = power_mod(C1,D,N)\n",
    "print(\"message C1: \\n\\t\" + str(decode_message(M1)))\n"
   ]
  },
  {
   "cell_type": "markdown",
   "metadata": {},
   "source": [
    "## **TODO List**  \n",
    "PART 1:  Break RSA factoring  \n",
    "**_PART 2:  Break RSA with Square Roots & CRT_**  \n",
    "PART 3:  Rabin Signatures  \n",
    "PART 4:  Shamir Secret Sharing"
   ]
  },
  {
   "cell_type": "markdown",
   "metadata": {},
   "source": [
    "We will now break C2 using a different tactic, the square root method!  \n",
    "\n",
    "We still have access to the same public key, so we should find square roots of a number _mod N_  \n",
    "You can accomplish this using a brute force method like we had in the notes, by checking every value.  \n",
    "\n",
    "But we can do better.  We know that 1 has a square root pair of {1, -1} or here {1, N-1}  \n",
    "So let's start by attacking the value 1.  \n",
    "We would square every value until we get an answer which is equal to _1 mod N_, that would give us enough information to continue.  \n",
    "\n",
    "Here, we will use the wonderful code `sqrt()` to help us out."
   ]
  },
  {
   "cell_type": "code",
   "execution_count": 37,
   "metadata": {},
   "outputs": [
    {
     "name": "stdout",
     "output_type": "stream",
     "text": [
      "The square roots of 1 mod N are:\n",
      "\troot 1: 1\n",
      "\troot 2: 157801397976567248731216116353265405817139091503\n",
      "\troot 3: 165976474652655663852985918804889746059544217316\n",
      "\troot 4: 323777872629222912584202035158155151876683308818\n",
      "1\n",
      "1\n",
      "1\n",
      "1\n"
     ]
    }
   ],
   "source": [
    "# here are the square roots of 1 mod N\n",
    "[r1, r2, r3, r4] = mod(1,N).sqrt(all=True)\n",
    "print(\"The square roots of 1 mod N are:\")\n",
    "print(\"\\troot 1: \" + str(r1))\n",
    "print(\"\\troot 2: \" + str(r2))\n",
    "print(\"\\troot 3: \" + str(r3))\n",
    "print(\"\\troot 4: \" + str(r4))\n",
    "\n",
    "\n",
    "############################\n",
    "# Question 5: Your work here\n",
    "############################\n",
    "\n",
    "\n",
    "# check that all 4 of the values are indeed square roots of 1 mod N\n",
    "\n",
    "# check r1\n",
    "print(r1**2 % N)\n",
    "# check r2\n",
    "print(r2**2 % N)\n",
    "# check r3\n",
    "print(r3**2 % N)\n",
    "# check r4\n",
    "print(r4**2 % N)\n"
   ]
  },
  {
   "cell_type": "markdown",
   "metadata": {},
   "source": [
    "we are going to use the sublime formula `gcd(r1 + r2, N)` to find a factor  \n",
    "to do this we need let's take the first two square roots, r1, r2  \n",
    "\n",
    "_Note_ This sublime formula is a direct result of our study of the Chinese Remainder Theorem"
   ]
  },
  {
   "cell_type": "code",
   "execution_count": 49,
   "metadata": {},
   "outputs": [
    {
     "name": "stdout",
     "output_type": "stream",
     "text": [
      "p:\t355718838765115951494559\n"
     ]
    }
   ],
   "source": [
    "############################\n",
    "# Question 6: Your work here\n",
    "############################\n",
    "\n",
    "# find p\n",
    "\n",
    "p = gcd(r1+r2, N)\n",
    "\n",
    "print(\"p:\\t\" + str(p))"
   ]
  },
  {
   "cell_type": "code",
   "execution_count": 55,
   "metadata": {},
   "outputs": [
    {
     "name": "stdout",
     "output_type": "stream",
     "text": [
      "True\n",
      "q:\t910207268620417601264141\n"
     ]
    }
   ],
   "source": [
    "############################\n",
    "# Question 7: Your work here\n",
    "############################\n",
    "\n",
    "# what is q?\n",
    "q = gcd(r2+r4,N)\n",
    "\n",
    "print(p*q == N) #check that the result is q, and that product is N\n",
    "\n",
    "print(\"q:\\t\" + str(q))"
   ]
  },
  {
   "cell_type": "markdown",
   "metadata": {},
   "source": [
    "Now we have _p_ and _q_, so we can now find D, the decryption exponent and the next part of the message"
   ]
  },
  {
   "cell_type": "code",
   "execution_count": 74,
   "metadata": {},
   "outputs": [
    {
     "name": "stdout",
     "output_type": "stream",
     "text": [
      "323777872629222912584200769232047766343130550120\n",
      "message C2: \n",
      "\tRV: 12S XF 7394 9654\n",
      "entire message: \n",
      "\tExfil immediately: RV: 12S XF 7394 9654\n"
     ]
    }
   ],
   "source": [
    "############################\n",
    "# Question 8: Your work here\n",
    "############################\n",
    "\n",
    "phi_N = ((int(p-1))*int((q-1)))\n",
    "print(phi_N)\n",
    "\n",
    "# what is the broken message, C2?\n",
    "D = inverse_mod(E,phi_N)\n",
    "M2 = decode_message(int(power_mod(C2, D, N)))\n",
    "\n",
    "print(\"message C2: \\n\\t\"+ str(M2))\n",
    "\n",
    "# what is the entire message, C1 + C2, then?\n",
    "print(\"entire message: \\n\\t\" + str(decode_message(M1)) + str(M2))"
   ]
  },
  {
   "cell_type": "markdown",
   "metadata": {},
   "source": [
    "## **TODO List**  \n",
    "PART 1:  Break RSA factoring  \n",
    "PART 2:  Break RSA with Square Roots & CRT  \n",
    "**_PART 3:  Rabin Signatures_**  \n",
    "PART 4:  Shamir Secret Sharing"
   ]
  },
  {
   "cell_type": "markdown",
   "metadata": {},
   "source": [
    "Now that we are more familiar with square roots in a modulus, let's look at how a rabin signature can work. \n",
    "In this lab we used to go into a lot of detail about how difficult it is to process certain tasks.  \n",
    "For instance, factoring large numbers is incredibly difficult, and we can run a brute force algorithm one after another on increasingly large N to see how the time requirements increase exponentially.  \n",
    "\n",
    "In light of that difficulty Rabin signatures are a breeze to verify.  \n",
    "If you work with outlook and signed email frequently, you'll notice a distinct user experience horror when trying to open a signed email, as the process of validating that email works too slowly."
   ]
  },
  {
   "cell_type": "code",
   "execution_count": 76,
   "metadata": {},
   "outputs": [],
   "source": [
    "# Aaron's message to sign\n",
    "message = \"The Women's World Cup was won in dramatic fashion by Spain.   EOF   padding:00000004\""
   ]
  },
  {
   "cell_type": "markdown",
   "metadata": {},
   "source": [
    "We will need a new N value, since the N value from above is small, maybe 120 bits long or so.  \n",
    "Here we know that this hash is 256 bits long, so we need an N which is at least as big.  \n",
    "Let's check that!"
   ]
  },
  {
   "cell_type": "code",
   "execution_count": 77,
   "metadata": {},
   "outputs": [
    {
     "name": "stdout",
     "output_type": "stream",
     "text": [
      "hash of the message: 81e385146ed42214d50bff181a50636aaa7467ba7508f59451bb700b0f7344db\n",
      "\n",
      "           Size of N in bits: 158\n",
      "Size of message_hash in bits: 256\n",
      "     Size of rabin_N in bits: 256\n"
     ]
    }
   ],
   "source": [
    "# hash the message, the basis of any digital signature\n",
    "message_hash = hash_message(message)\n",
    "print(\"hash of the message: \" + message_hash)\n",
    "print()\n",
    "\n",
    "# start creating the signature\n",
    "p = 318673169171047839116951099424178531399\n",
    "q = 288237402043873380399913216798519703159\n",
    "rabin_N = p * q\n",
    "\n",
    "print(\"           Size of N in bits: \" + str(N.nbits()))\n",
    "print(\"Size of message_hash in bits: \" + str(Integer(int(message_hash,16)).nbits()))\n",
    "print(\"     Size of rabin_N in bits: \" + str(rabin_N.nbits()))"
   ]
  },
  {
   "cell_type": "markdown",
   "metadata": {},
   "source": [
    "We will create a rabin signature now...  \n",
    "We want the hash to be a perfect square, since the Rabin signature is it's square root.\n",
    "\n",
    "Start with the hash, and turn it into an integer.  \n",
    "Check if that integer is a perfect square.  \n",
    "If not, then increment the value and recheck.  \n",
    "\n",
    "_note: In practice a protocol needs to be devised on how to add padding.  \n",
    "Remember the padding is required in Rabin signatures in order to allow for incrementing_ "
   ]
  },
  {
   "cell_type": "markdown",
   "metadata": {},
   "source": [
    "our path here:\n",
    "1. we are trying to determine the square root of the int_hash, so we can send our signature\n",
    "2. finding square roots is difficult, to make it quicker we will use the CRT, yay!\n",
    "3. we will find the square root _mod p_  and the square root _mod q_\n",
    "4. then we will combine these using the CRT, which will give us a square root _mod rabin_N_"
   ]
  },
  {
   "cell_type": "code",
   "execution_count": 78,
   "metadata": {},
   "outputs": [
    {
     "name": "stdout",
     "output_type": "stream",
     "text": [
      "42651880768614775674104685552082528197\n"
     ]
    }
   ],
   "source": [
    "# this should all look familiar from lab 1\n",
    "int_hash = int(message_hash, 16)\n",
    "\n",
    "# find a square root of the hash mod p\n",
    "int_hash_modp = mod(int_hash, p)\n",
    "\n",
    "# is there a square root mod p?\n",
    "sqrt_modp = mod(int_hash_modp, p).sqrt()\n",
    "print(sqrt_modp)"
   ]
  },
  {
   "cell_type": "markdown",
   "metadata": {},
   "source": [
    "The answer was an integer value so we are set!\n",
    "We know there is a square root  \n",
    "\n",
    "If there weren't an integer value then we would have to go back and pad the message.  \n",
    "Once you've added padding you could retry these calculations until you get an answer.  \n",
    "\n",
    "I did this manually, if you want to check for yourself.  \n",
    "You can see that a padding:00000000 doesn't yield a square root in p  \n",
    "You can see that a padding:00000001 doesn't yield a square root in p  \n",
    "You can see that a padding:00000002 does yield a square root in p, but not q  \n",
    "... a padding:00000005 yielded both\n",
    "\n",
    "Since we have an answer, we will continue and validate that we also have a square root mod q.  \n",
    "(if there isn't we need to add padding and retry until we get valid roots in both p and q)"
   ]
  },
  {
   "cell_type": "code",
   "execution_count": 79,
   "metadata": {},
   "outputs": [
    {
     "name": "stdout",
     "output_type": "stream",
     "text": [
      "79872524758206451134704322268869453550\n"
     ]
    }
   ],
   "source": [
    "# find a square root of the hash mod q\n",
    "int_hash_modq = mod(int_hash, q)\n",
    "\n",
    "# is there a square root mod p?\n",
    "sqrt_modq = mod(int_hash_modq, q).sqrt()\n",
    "print(sqrt_modq)"
   ]
  },
  {
   "cell_type": "markdown",
   "metadata": {},
   "source": [
    "Yay! this works.  \n",
    "The last step to creating the rabin signature is using the CRT to combine these two values.  \n",
    "The first value is the square root of our int_hash mod p,  \n",
    "the second value is the square root of our int_hash mod q,  \n",
    "so combining them using CRT will give us the square root of our int_hash mod p*q!"
   ]
  },
  {
   "cell_type": "code",
   "execution_count": 80,
   "metadata": {},
   "outputs": [
    {
     "name": "stdout",
     "output_type": "stream",
     "text": [
      "The square root of int_hash mod rabin_N: \n",
      "\t27350518179012306423506070687590633174921200541952403272620345755928206924762\n"
     ]
    }
   ],
   "source": [
    "sqrt = crt(Integer(sqrt_modp), Integer(sqrt_modq), p, q)\n",
    "print(\"The square root of int_hash mod rabin_N: \\n\\t\" + str(sqrt))"
   ]
  },
  {
   "cell_type": "markdown",
   "metadata": {},
   "source": [
    "We finally have our signature!  \n",
    "Depending on your level of familiarity with programming, this may have seemed like a lot of work.  \n",
    "It really was just a few lines of code, and we've calculated quickly.  \n",
    "\n",
    "We did good work! Let's send our message to the world!"
   ]
  },
  {
   "cell_type": "code",
   "execution_count": 81,
   "metadata": {},
   "outputs": [],
   "source": [
    "# Aaron's signed message!!!\n",
    "signed_message = \"The Women's World Cup was won in dramatic fashion by Spain.   EOF   padding:00000004\"\n",
    "signature = 27350518179012306423506070687590633174921200541952403272620345755928206924762\n",
    "\n",
    "# Aaron's public signing key\n",
    "N = rabin_N"
   ]
  },
  {
   "cell_type": "markdown",
   "metadata": {},
   "source": [
    "Now you as a class, can validate my signature!"
   ]
  },
  {
   "cell_type": "code",
   "execution_count": 82,
   "metadata": {},
   "outputs": [
    {
     "name": "stdout",
     "output_type": "stream",
     "text": [
      "class hash: \t81e385146ed42214d50bff181a50636aaa7467ba7508f59451bb700b0f7344db\n",
      "signed hash: \t81e385146ed42214d50bff181a50636aaa7467ba7508f59451bb700b0f7344db\n"
     ]
    }
   ],
   "source": [
    "############################\n",
    "# Question 9: Your work here\n",
    "############################\n",
    "\n",
    "# create your own hash of my message\n",
    "class_hash = hash_message(signed_message)\n",
    "print(\"class hash: \\t\" + str(class_hash))\n",
    "\n",
    "# recreate the hash from the signature\n",
    "# square the signature (don't forget the modulus)\n",
    "sig_squared = (signature**2) % N\n",
    "\n",
    "# cast back into a hex\n",
    "print(\"signed hash: \\t\" + str(hex(sig_squared)[2:]))\n",
    "\n",
    "# do they match???\n",
    "# is the signature valid???"
   ]
  },
  {
   "cell_type": "markdown",
   "metadata": {},
   "source": [
    "## **TODO List**  \n",
    "PART 1:  Break RSA factoring  \n",
    "PART 2:  Break RSA with Square Roots & CRT  \n",
    "PART 3:  Rabin Signatures  \n",
    "**_PART 4:  Shamir Secret Sharing_**"
   ]
  },
  {
   "cell_type": "markdown",
   "metadata": {},
   "source": [
    "Finally a quick demo of Shamir Secret sharing.  \n",
    "Remember the idea is to use a polynomial of a certain order to share a secret.  \n",
    "We will have a quorum, which is one more than the order of the polynomial.  \n",
    "Then we will be able to share the secret with as many people as we want.  \n",
    "\n",
    "The secret will be the value of the polynomial evaluated at zero.  \n",
    "$f(0) = $ _secret_"
   ]
  },
  {
   "cell_type": "markdown",
   "metadata": {},
   "source": [
    "Step 1: determine the quorum  \n",
    "answer: say the quorum is 5 for this exercise  \n",
    "\n",
    "Step 2: determine the polynomial with modulus\n",
    "answer: randomly decide the polynomial is...  \n",
    "$f(x) = 15x^4 + 27x^3 + 2x^2 + 19x + secret$ _mod p_ \n",
    "\n",
    "Step 3: determine the secret\n",
    "answer: let's pretend we are looking for grid coordinates for an underground nuclear facility.  \n",
    "These coordinates will come as a set of eight digits for a given military map.  \n",
    "This is using the standard MGRS, military grid reference system.  \n",
    "So, _secret = [redacted]_  \n",
    "\n",
    "Step 4: distribute keys  \n",
    "evaluate f(1), f(2), f(3)... and distribute one pair of (x, y) coordinates to each member.  "
   ]
  },
  {
   "cell_type": "markdown",
   "metadata": {},
   "source": [
    "As secret keepers we don't disclose the coefficients of the polynomial.  \n",
    "These are sacrisanct, and in fact we shouldn't ever know what they are individually.  \n",
    "Shamir secret sharing relies on the fact that if the correct number of people come together,  \n",
    "each with valid keys, they can recreate the polynomial and learn the secret.  "
   ]
  },
  {
   "cell_type": "code",
   "execution_count": 83,
   "metadata": {},
   "outputs": [],
   "source": [
    "# five people come together and they each have keys\n",
    "key_1 = [1,78958221]\n",
    "key_2 = [2,106365037]\n",
    "key_3 = [3,157748887]\n",
    "key_4 = [4,247189185]\n",
    "key_5 = [5,110892620]\n",
    "\n",
    "# also we all know the modulus p\n",
    "p = 282322877"
   ]
  },
  {
   "cell_type": "markdown",
   "metadata": {},
   "source": [
    "How can the 5 people recreate the polynomial?  \n",
    "they need to identify the 5 coefficients!  \n",
    "\n",
    "Since this is a polynomial of order 4:  \n",
    "$f(x) = a_4 x^4 + a_3 x^3 + a_2 x^2 + a_1 x + a_0$  \n",
    "\n",
    "We need to identify what the values: $a_4, a_3, a_2, a_1, a_0$ are...  \n",
    "namely the value $a_0$ gives us the SECRET!!!"
   ]
  },
  {
   "cell_type": "markdown",
   "metadata": {},
   "source": [
    "Do you remember in algebra when you solved a system of 2 equations and 2 unknowns?  \n",
    "$2x + 5y = -10$  \n",
    "$3x + 10y = 6$  \n",
    "\n",
    "You can multipy the first equation by 2 and subtract the second equation:  \n",
    "$4x + 10y = -20$  \n",
    "$3x + 10y = 6$  \n",
    "\n",
    "yielding: $x + 0y = -26$  \n",
    "so we soloved that $x = -26$ and $y = 8.4$  \n",
    "\n",
    "\n",
    "That is what we will set up here.  \n",
    "The only difference is we will use a system of 5 equations and 5 unknowns."
   ]
  },
  {
   "cell_type": "markdown",
   "metadata": {},
   "source": [
    "Look at this function:  \n",
    "$f(x) = a_4 x^4 + a_3 x^3 + a_2 x^2 + a_1 x + a_0$  \n",
    "\n",
    "take the keys and you can substitute the values of x, y from the keys.  \n",
    "_key_1_: $78958221 = a_4 + a_3 + a_2 + a_1 + a_0$  \n",
    "_key_2_: $106365037 = 16a_4 + 8a_3 + 4a_2 + 2a_1 + a_0$  \n",
    "_key_3_: $157748887 = 243a_4 + 81a_3 + 9a_2 + 3a_1 + a_0$  \n",
    "_key_4_: $247189185 = 256a_4 + 64a_3 + 16a_2 + 4a_1 + a_0$  \n",
    "_key_5_: $110892620 = 625a_4 + 125a_3 + 25a_2 + 5a_1 + a_0$  \n",
    "\n",
    "The coefficients _a_ are now the 'unknowns' for which we will solve."
   ]
  },
  {
   "cell_type": "code",
   "execution_count": 84,
   "metadata": {
    "scrolled": false
   },
   "outputs": [
    {
     "name": "stdout",
     "output_type": "stream",
     "text": [
      "(185423, 492339, 4398908, 7982374, 65899177)\n",
      "\n",
      "The secret is: 65899177\n"
     ]
    }
   ],
   "source": [
    "# start by declaring a finite Ring... forces modular arithmetic\n",
    "R = IntegerModRing(p)\n",
    "\n",
    "# create matrix using the coefficients from each row above\n",
    "matrix = []\n",
    "matrix.append([1, 1, 1, 1, 1])\n",
    "matrix.append([16, 8, 4, 2, 1])\n",
    "matrix.append([81, 27, 9, 3, 1])\n",
    "matrix.append([256, 64, 16, 4, 1])\n",
    "matrix.append([625, 125, 25, 5, 1])\n",
    "\n",
    "# combine Ring and matrix\n",
    "ring_matrix = Matrix(R, matrix)\n",
    "\n",
    "# make vector for solutions\n",
    "vect = []\n",
    "vect.append(78958221)\n",
    "vect.append(106365037)\n",
    "vect.append(157748887)\n",
    "vect.append(247189185)\n",
    "vect.append(110892620)\n",
    "\n",
    "# combine Ring and vector\n",
    "ring_vector = vector(R, vect)\n",
    "\n",
    "# let's solve this thing...\n",
    "solution = ring_matrix.solve_right(ring_vector)\n",
    "print(solution)\n",
    "print()\n",
    "print(\"The secret is: \" + str(solution[4]))"
   ]
  },
  {
   "cell_type": "markdown",
   "metadata": {},
   "source": [
    "The answer we want is $a_0$ which is the last entry in our solution  \n",
    "If you are feeling industrious you'll remember that our secret is the coordinates to the secret underground nuclear facility...  \n",
    "\n",
    "You are operating in the vicinity of map `10S EG`,\n",
    "if you want to add the 8 digit solution to this map code like `10S EG XXXXXXXX`, then you can go to this website and see where the secret facility is located.  \n",
    "\n",
    "https://legallandconverter.com/p50.html  \n",
    "use the top link \"MGRS Grid Reference Search\"  \n",
    "and select map of your choice"
   ]
  },
  {
   "cell_type": "code",
   "execution_count": null,
   "metadata": {},
   "outputs": [],
   "source": [
    "############################\n",
    "# Question 10: Your work here\n",
    "############################\n",
    "\n",
    "# where is the nuclear facility?\n",
    "\n",
    "Center Field, California Memorial Stadium in Berkeley\n",
    "\n"
   ]
  }
 ],
 "metadata": {
  "kernelspec": {
   "display_name": "SageMath 9.1",
   "language": "sage",
   "name": "sagemath"
  },
  "language_info": {
   "codemirror_mode": {
    "name": "ipython",
    "version": 3
   },
   "file_extension": ".py",
   "mimetype": "text/x-python",
   "name": "python",
   "nbconvert_exporter": "python",
   "pygments_lexer": "ipython3",
   "version": "3.7.3"
  }
 },
 "nbformat": 4,
 "nbformat_minor": 5
}
